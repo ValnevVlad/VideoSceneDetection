{
 "cells": [
  {
   "cell_type": "markdown",
   "id": "6f371728",
   "metadata": {},
   "source": [
    "Распаковываем архив с моделью"
   ]
  },
  {
   "cell_type": "code",
   "execution_count": 3,
   "id": "2ca9f0e5",
   "metadata": {},
   "outputs": [],
   "source": [
    "!unzip -q \"yolov5.zip\" -d \"yolov5\""
   ]
  },
  {
   "cell_type": "markdown",
   "id": "2adb339b",
   "metadata": {},
   "source": [
    "Устанавливаем необходимые зависимости и библиотеки"
   ]
  },
  {
   "cell_type": "code",
   "execution_count": null,
   "id": "93195cd8",
   "metadata": {},
   "outputs": [],
   "source": [
    "!pip install -r requirements.txt"
   ]
  },
  {
   "cell_type": "markdown",
   "id": "2655a418",
   "metadata": {},
   "source": [
    "#### Использование модели\n",
    "my_detect.py - файл запуска модели (редактируем код в этом файле) <br>\n",
    "last.pt - веса обученной модели <br>\n",
    "source - источник (то, что на входе модели)"
   ]
  },
  {
   "cell_type": "raw",
   "id": "5442765f",
   "metadata": {},
   "source": [
    "Usage - sources: \n",
    "!python path/to/my_detect.py --weights yolov5s.pt --source 0           # webcam\n",
    "                                                        img.jpg        # image\n",
    "                                                        vid.mp4        # video\n",
    "                                                        path/          # directory\n",
    "                                                        path/*.jpg     # glob\n",
    "                                                        'https://youtu.be/Zgi9g1ksQHc'  # YouTube\n",
    "                                                        'rtsp://example.com/media.mp4'  # RTSP,RTMP,HTTP stream"
   ]
  },
  {
   "cell_type": "code",
   "execution_count": 6,
   "id": "65f30c96",
   "metadata": {
    "tags": []
   },
   "outputs": [
    {
     "name": "stdout",
     "output_type": "stream",
     "text": [
      "objc[1689]: Class CaptureDelegate is implemented in both /Users/vladislav/miniforge3/envs/tensorflow/lib/python3.8/site-packages/cv2/cv2.abi3.so (0x169ea2538) and /Users/vladislav/miniforge3/envs/tensorflow/lib/python3.8/site-packages/mediapipe/.dylibs/libopencv_videoio.3.4.16.dylib (0x14eaf8860). One of the two will be used. Which one is undefined.\n",
      "objc[1689]: Class CVWindow is implemented in both /Users/vladislav/miniforge3/envs/tensorflow/lib/python3.8/site-packages/cv2/cv2.abi3.so (0x169ea2588) and /Users/vladislav/miniforge3/envs/tensorflow/lib/python3.8/site-packages/mediapipe/.dylibs/libopencv_highgui.3.4.16.dylib (0x14c048a68). One of the two will be used. Which one is undefined.\n",
      "objc[1689]: Class CVView is implemented in both /Users/vladislav/miniforge3/envs/tensorflow/lib/python3.8/site-packages/cv2/cv2.abi3.so (0x169ea25b0) and /Users/vladislav/miniforge3/envs/tensorflow/lib/python3.8/site-packages/mediapipe/.dylibs/libopencv_highgui.3.4.16.dylib (0x14c048a90). One of the two will be used. Which one is undefined.\n",
      "objc[1689]: Class CVSlider is implemented in both /Users/vladislav/miniforge3/envs/tensorflow/lib/python3.8/site-packages/cv2/cv2.abi3.so (0x169ea25d8) and /Users/vladislav/miniforge3/envs/tensorflow/lib/python3.8/site-packages/mediapipe/.dylibs/libopencv_highgui.3.4.16.dylib (0x14c048ab8). One of the two will be used. Which one is undefined.\n",
      "\u001b[34m\u001b[1mmy_detect: \u001b[0mweights=['yolov5/yolov5/runs/train/exp5/weights/last.pt'], source=/Users/vladislav/Documents/Jupyter Notebook/ObjectDetection/Maintenance Hand Segmentation/Python Segmentation/pump_dataset/pump_videos/test_pump_video.mp4, data=yolov5/yolov5/data/coco128.yaml, imgsz=[640, 640], conf_thres=0.25, iou_thres=0.45, max_det=1000, device=, view_img=False, save_txt=False, save_conf=False, save_crop=False, nosave=False, classes=None, agnostic_nms=False, augment=False, visualize=False, update=False, project=yolov5/yolov5/runs/detect, name=exp, exist_ok=False, line_thickness=3, hide_labels=False, hide_conf=False, half=False, dnn=False\n",
      "\u001b[31m\u001b[1mrequirements:\u001b[0m /Users/vladislav/Documents/Jupyter Notebook/ObjectDetection/VideoSceneDetection/yolov5/yolov5/requirements.txt not found, check failed.\n",
      "fatal: cannot change to '/Users/vladislav/Documents/Jupyter': No such file or directory\n",
      "YOLOv5 🚀 2022-7-25 Python-3.8.12 torch-1.13.1 CPU\n",
      "\n",
      "Fusing layers... \n",
      "Model summary: 213 layers, 7012822 parameters, 0 gradients, 15.8 GFLOPs\n",
      "INFO: Created TensorFlow Lite XNNPACK delegate for CPU.\n",
      "video 1/1 (1/7711) /Users/vladislav/Documents/Jupyter Notebook/ObjectDetection/Maintenance Hand Segmentation/Python Segmentation/pump_dataset/pump_videos/test_pump_video.mp4: 384x640 1 Electric motor, Done. (0.049s)\n",
      "video 1/1 (2/7711) /Users/vladislav/Documents/Jupyter Notebook/ObjectDetection/Maintenance Hand Segmentation/Python Segmentation/pump_dataset/pump_videos/test_pump_video.mp4: 384x640 1 Electric motor, Done. (0.044s)\n",
      "video 1/1 (3/7711) /Users/vladislav/Documents/Jupyter Notebook/ObjectDetection/Maintenance Hand Segmentation/Python Segmentation/pump_dataset/pump_videos/test_pump_video.mp4: 384x640 1 Electric motor, Done. (0.043s)\n",
      "video 1/1 (4/7711) /Users/vladislav/Documents/Jupyter Notebook/ObjectDetection/Maintenance Hand Segmentation/Python Segmentation/pump_dataset/pump_videos/test_pump_video.mp4: 384x640 1 Electric motor, Done. (0.047s)\n",
      "video 1/1 (5/7711) /Users/vladislav/Documents/Jupyter Notebook/ObjectDetection/Maintenance Hand Segmentation/Python Segmentation/pump_dataset/pump_videos/test_pump_video.mp4: 384x640 1 Electric motor, Done. (0.043s)\n",
      "video 1/1 (6/7711) /Users/vladislav/Documents/Jupyter Notebook/ObjectDetection/Maintenance Hand Segmentation/Python Segmentation/pump_dataset/pump_videos/test_pump_video.mp4: 384x640 1 Electric motor, Done. (0.046s)\n",
      "video 1/1 (7/7711) /Users/vladislav/Documents/Jupyter Notebook/ObjectDetection/Maintenance Hand Segmentation/Python Segmentation/pump_dataset/pump_videos/test_pump_video.mp4: 384x640 1 Electric motor, Done. (0.043s)\n",
      "video 1/1 (8/7711) /Users/vladislav/Documents/Jupyter Notebook/ObjectDetection/Maintenance Hand Segmentation/Python Segmentation/pump_dataset/pump_videos/test_pump_video.mp4: 384x640 1 Electric motor, Done. (0.047s)\n",
      "video 1/1 (9/7711) /Users/vladislav/Documents/Jupyter Notebook/ObjectDetection/Maintenance Hand Segmentation/Python Segmentation/pump_dataset/pump_videos/test_pump_video.mp4: 384x640 1 Electric motor, Done. (0.043s)\n",
      "video 1/1 (10/7711) /Users/vladislav/Documents/Jupyter Notebook/ObjectDetection/Maintenance Hand Segmentation/Python Segmentation/pump_dataset/pump_videos/test_pump_video.mp4: 384x640 1 Electric motor, Done. (0.048s)\n",
      "video 1/1 (11/7711) /Users/vladislav/Documents/Jupyter Notebook/ObjectDetection/Maintenance Hand Segmentation/Python Segmentation/pump_dataset/pump_videos/test_pump_video.mp4: 384x640 1 Electric motor, Done. (0.049s)\n",
      "video 1/1 (12/7711) /Users/vladislav/Documents/Jupyter Notebook/ObjectDetection/Maintenance Hand Segmentation/Python Segmentation/pump_dataset/pump_videos/test_pump_video.mp4: 384x640 1 Electric motor, Done. (0.049s)\n",
      "video 1/1 (13/7711) /Users/vladislav/Documents/Jupyter Notebook/ObjectDetection/Maintenance Hand Segmentation/Python Segmentation/pump_dataset/pump_videos/test_pump_video.mp4: 384x640 1 Electric motor, Done. (0.046s)\n",
      "video 1/1 (14/7711) /Users/vladislav/Documents/Jupyter Notebook/ObjectDetection/Maintenance Hand Segmentation/Python Segmentation/pump_dataset/pump_videos/test_pump_video.mp4: 384x640 1 Electric motor, Done. (0.046s)\n",
      "video 1/1 (15/7711) /Users/vladislav/Documents/Jupyter Notebook/ObjectDetection/Maintenance Hand Segmentation/Python Segmentation/pump_dataset/pump_videos/test_pump_video.mp4: 384x640 1 Electric motor, Done. (0.047s)\n",
      "video 1/1 (16/7711) /Users/vladislav/Documents/Jupyter Notebook/ObjectDetection/Maintenance Hand Segmentation/Python Segmentation/pump_dataset/pump_videos/test_pump_video.mp4: 384x640 1 Electric motor, Done. (0.046s)\n",
      "video 1/1 (17/7711) /Users/vladislav/Documents/Jupyter Notebook/ObjectDetection/Maintenance Hand Segmentation/Python Segmentation/pump_dataset/pump_videos/test_pump_video.mp4: 384x640 1 Electric motor, Done. (0.044s)\n",
      "video 1/1 (18/7711) /Users/vladislav/Documents/Jupyter Notebook/ObjectDetection/Maintenance Hand Segmentation/Python Segmentation/pump_dataset/pump_videos/test_pump_video.mp4: 384x640 1 Electric motor, Done. (0.050s)\n",
      "video 1/1 (19/7711) /Users/vladislav/Documents/Jupyter Notebook/ObjectDetection/Maintenance Hand Segmentation/Python Segmentation/pump_dataset/pump_videos/test_pump_video.mp4: 384x640 1 Electric motor, Done. (0.047s)\n",
      "video 1/1 (20/7711) /Users/vladislav/Documents/Jupyter Notebook/ObjectDetection/Maintenance Hand Segmentation/Python Segmentation/pump_dataset/pump_videos/test_pump_video.mp4: 384x640 1 Electric motor, Done. (0.042s)\n",
      "video 1/1 (21/7711) /Users/vladislav/Documents/Jupyter Notebook/ObjectDetection/Maintenance Hand Segmentation/Python Segmentation/pump_dataset/pump_videos/test_pump_video.mp4: 384x640 1 Electric motor, Done. (0.050s)\n",
      "video 1/1 (22/7711) /Users/vladislav/Documents/Jupyter Notebook/ObjectDetection/Maintenance Hand Segmentation/Python Segmentation/pump_dataset/pump_videos/test_pump_video.mp4: 384x640 1 Electric motor, Done. (0.047s)\n",
      "video 1/1 (23/7711) /Users/vladislav/Documents/Jupyter Notebook/ObjectDetection/Maintenance Hand Segmentation/Python Segmentation/pump_dataset/pump_videos/test_pump_video.mp4: 384x640 1 Electric motor, Done. (0.044s)\n",
      "video 1/1 (24/7711) /Users/vladislav/Documents/Jupyter Notebook/ObjectDetection/Maintenance Hand Segmentation/Python Segmentation/pump_dataset/pump_videos/test_pump_video.mp4: 384x640 1 Electric motor, Done. (0.044s)\n",
      "video 1/1 (25/7711) /Users/vladislav/Documents/Jupyter Notebook/ObjectDetection/Maintenance Hand Segmentation/Python Segmentation/pump_dataset/pump_videos/test_pump_video.mp4: 384x640 1 Electric motor, Done. (0.050s)\n",
      "video 1/1 (26/7711) /Users/vladislav/Documents/Jupyter Notebook/ObjectDetection/Maintenance Hand Segmentation/Python Segmentation/pump_dataset/pump_videos/test_pump_video.mp4: 384x640 1 Electric motor, Done. (0.048s)\n",
      "video 1/1 (27/7711) /Users/vladislav/Documents/Jupyter Notebook/ObjectDetection/Maintenance Hand Segmentation/Python Segmentation/pump_dataset/pump_videos/test_pump_video.mp4: 384x640 1 Electric motor, Done. (0.046s)\n",
      "video 1/1 (28/7711) /Users/vladislav/Documents/Jupyter Notebook/ObjectDetection/Maintenance Hand Segmentation/Python Segmentation/pump_dataset/pump_videos/test_pump_video.mp4: 384x640 1 Electric motor, Done. (0.050s)\n",
      "video 1/1 (29/7711) /Users/vladislav/Documents/Jupyter Notebook/ObjectDetection/Maintenance Hand Segmentation/Python Segmentation/pump_dataset/pump_videos/test_pump_video.mp4: 384x640 1 Electric motor, Done. (0.048s)\n",
      "video 1/1 (30/7711) /Users/vladislav/Documents/Jupyter Notebook/ObjectDetection/Maintenance Hand Segmentation/Python Segmentation/pump_dataset/pump_videos/test_pump_video.mp4: 384x640 1 Electric motor, Done. (0.044s)\n",
      "video 1/1 (31/7711) /Users/vladislav/Documents/Jupyter Notebook/ObjectDetection/Maintenance Hand Segmentation/Python Segmentation/pump_dataset/pump_videos/test_pump_video.mp4: 384x640 1 Electric motor, Done. (0.044s)\n",
      "video 1/1 (32/7711) /Users/vladislav/Documents/Jupyter Notebook/ObjectDetection/Maintenance Hand Segmentation/Python Segmentation/pump_dataset/pump_videos/test_pump_video.mp4: 384x640 1 Electric motor, Done. (0.048s)\n",
      "video 1/1 (33/7711) /Users/vladislav/Documents/Jupyter Notebook/ObjectDetection/Maintenance Hand Segmentation/Python Segmentation/pump_dataset/pump_videos/test_pump_video.mp4: 384x640 1 Electric motor, Done. (0.046s)\n",
      "video 1/1 (34/7711) /Users/vladislav/Documents/Jupyter Notebook/ObjectDetection/Maintenance Hand Segmentation/Python Segmentation/pump_dataset/pump_videos/test_pump_video.mp4: 384x640 1 Electric motor, Done. (0.045s)\n",
      "video 1/1 (35/7711) /Users/vladislav/Documents/Jupyter Notebook/ObjectDetection/Maintenance Hand Segmentation/Python Segmentation/pump_dataset/pump_videos/test_pump_video.mp4: 384x640 1 Electric motor, Done. (0.051s)\n",
      "video 1/1 (36/7711) /Users/vladislav/Documents/Jupyter Notebook/ObjectDetection/Maintenance Hand Segmentation/Python Segmentation/pump_dataset/pump_videos/test_pump_video.mp4: 384x640 1 Electric motor, Done. (0.047s)\n",
      "video 1/1 (37/7711) /Users/vladislav/Documents/Jupyter Notebook/ObjectDetection/Maintenance Hand Segmentation/Python Segmentation/pump_dataset/pump_videos/test_pump_video.mp4: 384x640 1 Electric motor, Done. (0.047s)\n",
      "video 1/1 (38/7711) /Users/vladislav/Documents/Jupyter Notebook/ObjectDetection/Maintenance Hand Segmentation/Python Segmentation/pump_dataset/pump_videos/test_pump_video.mp4: 384x640 1 Electric motor, Done. (0.046s)\n",
      "video 1/1 (39/7711) /Users/vladislav/Documents/Jupyter Notebook/ObjectDetection/Maintenance Hand Segmentation/Python Segmentation/pump_dataset/pump_videos/test_pump_video.mp4: 384x640 1 Electric motor, Done. (0.052s)\n",
      "video 1/1 (40/7711) /Users/vladislav/Documents/Jupyter Notebook/ObjectDetection/Maintenance Hand Segmentation/Python Segmentation/pump_dataset/pump_videos/test_pump_video.mp4: 384x640 1 Electric motor, Done. (0.047s)\n",
      "video 1/1 (41/7711) /Users/vladislav/Documents/Jupyter Notebook/ObjectDetection/Maintenance Hand Segmentation/Python Segmentation/pump_dataset/pump_videos/test_pump_video.mp4: 384x640 1 Electric motor, Done. (0.044s)\n",
      "video 1/1 (42/7711) /Users/vladislav/Documents/Jupyter Notebook/ObjectDetection/Maintenance Hand Segmentation/Python Segmentation/pump_dataset/pump_videos/test_pump_video.mp4: 384x640 1 Electric motor, Done. (0.050s)\n",
      "video 1/1 (43/7711) /Users/vladislav/Documents/Jupyter Notebook/ObjectDetection/Maintenance Hand Segmentation/Python Segmentation/pump_dataset/pump_videos/test_pump_video.mp4: 384x640 1 Electric motor, Done. (0.047s)\n",
      "video 1/1 (44/7711) /Users/vladislav/Documents/Jupyter Notebook/ObjectDetection/Maintenance Hand Segmentation/Python Segmentation/pump_dataset/pump_videos/test_pump_video.mp4: 384x640 1 Electric motor, Done. (0.045s)\n",
      "video 1/1 (45/7711) /Users/vladislav/Documents/Jupyter Notebook/ObjectDetection/Maintenance Hand Segmentation/Python Segmentation/pump_dataset/pump_videos/test_pump_video.mp4: 384x640 1 Electric motor, Done. (0.050s)\n",
      "video 1/1 (46/7711) /Users/vladislav/Documents/Jupyter Notebook/ObjectDetection/Maintenance Hand Segmentation/Python Segmentation/pump_dataset/pump_videos/test_pump_video.mp4: 384x640 1 Electric motor, Done. (0.048s)\n",
      "video 1/1 (47/7711) /Users/vladislav/Documents/Jupyter Notebook/ObjectDetection/Maintenance Hand Segmentation/Python Segmentation/pump_dataset/pump_videos/test_pump_video.mp4: 384x640 1 Electric motor, Done. (0.044s)\n",
      "video 1/1 (48/7711) /Users/vladislav/Documents/Jupyter Notebook/ObjectDetection/Maintenance Hand Segmentation/Python Segmentation/pump_dataset/pump_videos/test_pump_video.mp4: 384x640 1 Electric motor, Done. (0.049s)\n",
      "video 1/1 (49/7711) /Users/vladislav/Documents/Jupyter Notebook/ObjectDetection/Maintenance Hand Segmentation/Python Segmentation/pump_dataset/pump_videos/test_pump_video.mp4: 384x640 1 Electric motor, Done. (0.048s)\n",
      "video 1/1 (50/7711) /Users/vladislav/Documents/Jupyter Notebook/ObjectDetection/Maintenance Hand Segmentation/Python Segmentation/pump_dataset/pump_videos/test_pump_video.mp4: 384x640 1 Electric motor, Done. (0.047s)\n",
      "video 1/1 (51/7711) /Users/vladislav/Documents/Jupyter Notebook/ObjectDetection/Maintenance Hand Segmentation/Python Segmentation/pump_dataset/pump_videos/test_pump_video.mp4: 384x640 1 Electric motor, Done. (0.044s)\n",
      "video 1/1 (52/7711) /Users/vladislav/Documents/Jupyter Notebook/ObjectDetection/Maintenance Hand Segmentation/Python Segmentation/pump_dataset/pump_videos/test_pump_video.mp4: 384x640 1 Electric motor, Done. (0.047s)\n",
      "video 1/1 (53/7711) /Users/vladislav/Documents/Jupyter Notebook/ObjectDetection/Maintenance Hand Segmentation/Python Segmentation/pump_dataset/pump_videos/test_pump_video.mp4: 384x640 1 Electric motor, Done. (0.045s)\n",
      "video 1/1 (54/7711) /Users/vladislav/Documents/Jupyter Notebook/ObjectDetection/Maintenance Hand Segmentation/Python Segmentation/pump_dataset/pump_videos/test_pump_video.mp4: 384x640 1 Electric motor, Done. (0.049s)\n",
      "video 1/1 (55/7711) /Users/vladislav/Documents/Jupyter Notebook/ObjectDetection/Maintenance Hand Segmentation/Python Segmentation/pump_dataset/pump_videos/test_pump_video.mp4: 384x640 1 Electric motor, Done. (0.050s)\n",
      "video 1/1 (56/7711) /Users/vladislav/Documents/Jupyter Notebook/ObjectDetection/Maintenance Hand Segmentation/Python Segmentation/pump_dataset/pump_videos/test_pump_video.mp4: 384x640 1 Electric motor, Done. (0.047s)\n",
      "video 1/1 (57/7711) /Users/vladislav/Documents/Jupyter Notebook/ObjectDetection/Maintenance Hand Segmentation/Python Segmentation/pump_dataset/pump_videos/test_pump_video.mp4: 384x640 1 Electric motor, Done. (0.044s)\n",
      "video 1/1 (58/7711) /Users/vladislav/Documents/Jupyter Notebook/ObjectDetection/Maintenance Hand Segmentation/Python Segmentation/pump_dataset/pump_videos/test_pump_video.mp4: 384x640 1 Electric motor, Done. (0.050s)\n",
      "video 1/1 (59/7711) /Users/vladislav/Documents/Jupyter Notebook/ObjectDetection/Maintenance Hand Segmentation/Python Segmentation/pump_dataset/pump_videos/test_pump_video.mp4: 384x640 1 Electric motor, Done. (0.048s)\n",
      "video 1/1 (60/7711) /Users/vladislav/Documents/Jupyter Notebook/ObjectDetection/Maintenance Hand Segmentation/Python Segmentation/pump_dataset/pump_videos/test_pump_video.mp4: 384x640 1 Electric motor, Done. (0.047s)\n",
      "video 1/1 (61/7711) /Users/vladislav/Documents/Jupyter Notebook/ObjectDetection/Maintenance Hand Segmentation/Python Segmentation/pump_dataset/pump_videos/test_pump_video.mp4: 384x640 1 Electric motor, Done. (0.044s)\n",
      "video 1/1 (62/7711) /Users/vladislav/Documents/Jupyter Notebook/ObjectDetection/Maintenance Hand Segmentation/Python Segmentation/pump_dataset/pump_videos/test_pump_video.mp4: 384x640 1 Electric motor, Done. (0.052s)\n",
      "video 1/1 (63/7711) /Users/vladislav/Documents/Jupyter Notebook/ObjectDetection/Maintenance Hand Segmentation/Python Segmentation/pump_dataset/pump_videos/test_pump_video.mp4: 384x640 1 Electric motor, Done. (0.048s)\n",
      "video 1/1 (64/7711) /Users/vladislav/Documents/Jupyter Notebook/ObjectDetection/Maintenance Hand Segmentation/Python Segmentation/pump_dataset/pump_videos/test_pump_video.mp4: 384x640 1 Electric motor, Done. (0.048s)\n",
      "video 1/1 (65/7711) /Users/vladislav/Documents/Jupyter Notebook/ObjectDetection/Maintenance Hand Segmentation/Python Segmentation/pump_dataset/pump_videos/test_pump_video.mp4: 384x640 1 Electric motor, Done. (0.046s)\n",
      "video 1/1 (66/7711) /Users/vladislav/Documents/Jupyter Notebook/ObjectDetection/Maintenance Hand Segmentation/Python Segmentation/pump_dataset/pump_videos/test_pump_video.mp4: 384x640 1 Electric motor, Done. (0.051s)\n",
      "video 1/1 (67/7711) /Users/vladislav/Documents/Jupyter Notebook/ObjectDetection/Maintenance Hand Segmentation/Python Segmentation/pump_dataset/pump_videos/test_pump_video.mp4: 384x640 1 Electric motor, Done. (0.049s)\n",
      "video 1/1 (68/7711) /Users/vladislav/Documents/Jupyter Notebook/ObjectDetection/Maintenance Hand Segmentation/Python Segmentation/pump_dataset/pump_videos/test_pump_video.mp4: 384x640 1 Electric motor, Done. (0.048s)\n",
      "video 1/1 (69/7711) /Users/vladislav/Documents/Jupyter Notebook/ObjectDetection/Maintenance Hand Segmentation/Python Segmentation/pump_dataset/pump_videos/test_pump_video.mp4: 384x640 1 Electric motor, Done. (0.048s)\n",
      "video 1/1 (70/7711) /Users/vladislav/Documents/Jupyter Notebook/ObjectDetection/Maintenance Hand Segmentation/Python Segmentation/pump_dataset/pump_videos/test_pump_video.mp4: 384x640 1 Electric motor, Done. (0.049s)\n",
      "video 1/1 (71/7711) /Users/vladislav/Documents/Jupyter Notebook/ObjectDetection/Maintenance Hand Segmentation/Python Segmentation/pump_dataset/pump_videos/test_pump_video.mp4: 384x640 1 Electric motor, Done. (0.050s)\n",
      "video 1/1 (72/7711) /Users/vladislav/Documents/Jupyter Notebook/ObjectDetection/Maintenance Hand Segmentation/Python Segmentation/pump_dataset/pump_videos/test_pump_video.mp4: 384x640 1 Electric motor, Done. (0.048s)\n",
      "video 1/1 (73/7711) /Users/vladislav/Documents/Jupyter Notebook/ObjectDetection/Maintenance Hand Segmentation/Python Segmentation/pump_dataset/pump_videos/test_pump_video.mp4: 384x640 1 Electric motor, Done. (0.045s)\n",
      "^C\n",
      "Traceback (most recent call last):\n",
      "  File \"yolov5/yolov5/my_detect.py\", line 571, in <module>\n",
      "    main(opt)\n",
      "  File \"yolov5/yolov5/my_detect.py\", line 566, in main\n",
      "    run(**vars(opt))\n",
      "  File \"/Users/vladislav/miniforge3/envs/tensorflow/lib/python3.8/site-packages/torch/autograd/grad_mode.py\", line 27, in decorate_context\n",
      "    return func(*args, **kwargs)\n",
      "  File \"yolov5/yolov5/my_detect.py\", line 237, in run\n",
      "    vid_writer[i].write(im0)\n",
      "KeyboardInterrupt\n"
     ]
    }
   ],
   "source": [
    "!python \"yolov5/yolov5/my_detect.py\" --weights \"yolov5/yolov5/runs/train/exp5/weights/last.pt\" --source \"/Users/vladislav/Documents/Jupyter Notebook/ObjectDetection/Maintenance Hand Segmentation/Python Segmentation/pump_dataset/pump_videos/test_pump_video.mp4\""
   ]
  },
  {
   "cell_type": "code",
   "execution_count": null,
   "id": "0a268338",
   "metadata": {},
   "outputs": [],
   "source": []
  }
 ],
 "metadata": {
  "kernelspec": {
   "display_name": "Python 3 (ipykernel)",
   "language": "python",
   "name": "python3"
  },
  "language_info": {
   "codemirror_mode": {
    "name": "ipython",
    "version": 3
   },
   "file_extension": ".py",
   "mimetype": "text/x-python",
   "name": "python",
   "nbconvert_exporter": "python",
   "pygments_lexer": "ipython3",
   "version": "3.8.12"
  }
 },
 "nbformat": 4,
 "nbformat_minor": 5
}
