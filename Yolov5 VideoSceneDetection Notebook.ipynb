{
 "cells": [
  {
   "cell_type": "markdown",
   "id": "7c94987f",
   "metadata": {},
   "source": [
    "Скачиваем файлы с репозитория"
   ]
  },
  {
   "cell_type": "code",
   "execution_count": 2,
   "id": "40879a05",
   "metadata": {},
   "outputs": [
    {
     "name": "stdout",
     "output_type": "stream",
     "text": [
      "Cloning into 'VideoSceneDetection'...\n",
      "remote: Enumerating objects: 5, done.\u001b[K\n",
      "remote: Total 5 (delta 0), reused 0 (delta 0), pack-reused 5\u001b[K\n",
      "Receiving objects: 100% (5/5), 61.09 MiB | 2.18 MiB/s, done.\n"
     ]
    }
   ],
   "source": [
    "!git clone https://github.com/ValnevVlad/VideoSceneDetection.git"
   ]
  },
  {
   "cell_type": "markdown",
   "id": "6f371728",
   "metadata": {},
   "source": [
    "Распаковываем архив с моделью"
   ]
  },
  {
   "cell_type": "code",
   "execution_count": 24,
   "id": "fdf1415c",
   "metadata": {},
   "outputs": [],
   "source": [
    "!cd VideoSceneDetection"
   ]
  },
  {
   "cell_type": "code",
   "execution_count": 28,
   "id": "2ca9f0e5",
   "metadata": {},
   "outputs": [],
   "source": [
    "!unzip -q \"yolov5.zip\" -d \"VideoSceneDetection/yolov5\""
   ]
  },
  {
   "cell_type": "markdown",
   "id": "2adb339b",
   "metadata": {},
   "source": [
    "Устанавливаем необходимые зависимости и библиотеки"
   ]
  },
  {
   "cell_type": "code",
   "execution_count": null,
   "id": "93195cd8",
   "metadata": {},
   "outputs": [],
   "source": [
    "!pip install -r requirements.txt"
   ]
  },
  {
   "cell_type": "markdown",
   "id": "2655a418",
   "metadata": {},
   "source": [
    "#### Использование модели\n",
    "my_detect.py - файл запуска модели (редактируем код в этом файле) <br>\n",
    "last.pt - веса обученной модели <br>\n",
    "source - источник (на входе модели)"
   ]
  },
  {
   "cell_type": "code",
   "execution_count": null,
   "id": "b48a3ecf",
   "metadata": {},
   "outputs": [],
   "source": []
  },
  {
   "cell_type": "raw",
   "id": "5442765f",
   "metadata": {},
   "source": [
    "Usage - sources: \n",
    "!python path/to/my_detect.py --weights yolov5s.pt --source 0           # webcam\n",
    "                                                        img.jpg        # image\n",
    "                                                        vid.mp4        # video\n",
    "                                                        path/          # directory\n",
    "                                                        path/*.jpg     # glob\n",
    "                                                        'https://youtu.be/Zgi9g1ksQHc'  # YouTube\n",
    "                                                        'rtsp://example.com/media.mp4'  # RTSP,RTMP,HTTP stream"
   ]
  },
  {
   "cell_type": "code",
   "execution_count": null,
   "id": "65f30c96",
   "metadata": {},
   "outputs": [],
   "source": [
    "!python \"yolov5/yolov5/my_detect.py\" --weights \"yolov5/yolov5/runs/train/exp5/weights/last.pt\" --source \"https://www.youtube.com/watch?v=7rvALamfqAE&t=205s\""
   ]
  },
  {
   "cell_type": "code",
   "execution_count": null,
   "id": "0a268338",
   "metadata": {},
   "outputs": [],
   "source": []
  }
 ],
 "metadata": {
  "kernelspec": {
   "display_name": "Python 3 (ipykernel)",
   "language": "python",
   "name": "python3"
  },
  "language_info": {
   "codemirror_mode": {
    "name": "ipython",
    "version": 3
   },
   "file_extension": ".py",
   "mimetype": "text/x-python",
   "name": "python",
   "nbconvert_exporter": "python",
   "pygments_lexer": "ipython3",
   "version": "3.8.12"
  }
 },
 "nbformat": 4,
 "nbformat_minor": 5
}
