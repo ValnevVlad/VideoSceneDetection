{
 "cells": [
  {
   "cell_type": "markdown",
   "id": "7c94987f",
   "metadata": {},
   "source": [
    "## Распаковываем архив с моделью"
   ]
  },
  {
   "cell_type": "code",
   "execution_count": 1,
   "id": "2ca9f0e5",
   "metadata": {},
   "outputs": [],
   "source": [
    "!unzip -q \"yolov5.zip\" -d \"yolov5\""
   ]
  },
  {
   "cell_type": "markdown",
   "id": "2adb339b",
   "metadata": {},
   "source": [
    "## Устанавливаем необходимые зависимости и бибилотеки"
   ]
  },
  {
   "cell_type": "code",
   "execution_count": 2,
   "id": "93195cd8",
   "metadata": {},
   "outputs": [
    {
     "name": "stdout",
     "output_type": "stream",
     "text": [
      "Requirement already satisfied: matplotlib>=3.2.2 in /Users/vladislav/miniforge3/envs/tensorflow/lib/python3.8/site-packages (from -r requirements.txt (line 5)) (3.5.2)\n",
      "Requirement already satisfied: numpy>=1.18.5 in /Users/vladislav/miniforge3/envs/tensorflow/lib/python3.8/site-packages (from -r requirements.txt (line 6)) (1.23.1)\n",
      "Requirement already satisfied: opencv-python>=4.1.1 in /Users/vladislav/miniforge3/envs/tensorflow/lib/python3.8/site-packages (from -r requirements.txt (line 7)) (4.6.0.66)\n",
      "Requirement already satisfied: Pillow>=7.1.2 in /Users/vladislav/miniforge3/envs/tensorflow/lib/python3.8/site-packages (from -r requirements.txt (line 8)) (9.2.0)\n",
      "Requirement already satisfied: PyYAML>=5.3.1 in /Users/vladislav/miniforge3/envs/tensorflow/lib/python3.8/site-packages (from -r requirements.txt (line 9)) (6.0)\n",
      "Requirement already satisfied: requests>=2.23.0 in /Users/vladislav/miniforge3/envs/tensorflow/lib/python3.8/site-packages (from -r requirements.txt (line 10)) (2.28.1)\n",
      "Requirement already satisfied: scipy>=1.4.1 in /Users/vladislav/miniforge3/envs/tensorflow/lib/python3.8/site-packages (from -r requirements.txt (line 11)) (1.8.1)\n",
      "Requirement already satisfied: torch>=1.7.0 in /Users/vladislav/miniforge3/envs/tensorflow/lib/python3.8/site-packages (from -r requirements.txt (line 12)) (1.12.0)\n",
      "Requirement already satisfied: torchvision>=0.8.1 in /Users/vladislav/miniforge3/envs/tensorflow/lib/python3.8/site-packages (from -r requirements.txt (line 13)) (0.13.0)\n",
      "Requirement already satisfied: tqdm>=4.64.0 in /Users/vladislav/miniforge3/envs/tensorflow/lib/python3.8/site-packages (from -r requirements.txt (line 14)) (4.64.0)\n",
      "Requirement already satisfied: protobuf<4.21.3 in /Users/vladislav/miniforge3/envs/tensorflow/lib/python3.8/site-packages (from -r requirements.txt (line 15)) (3.20.1)\n",
      "Requirement already satisfied: pandas>=1.1.4 in /Users/vladislav/miniforge3/envs/tensorflow/lib/python3.8/site-packages (from -r requirements.txt (line 22)) (1.4.3)\n",
      "Requirement already satisfied: ipython in /Users/vladislav/miniforge3/envs/tensorflow/lib/python3.8/site-packages (from -r requirements.txt (line 37)) (8.4.0)\n",
      "Requirement already satisfied: psutil in /Users/vladislav/miniforge3/envs/tensorflow/lib/python3.8/site-packages (from -r requirements.txt (line 38)) (5.9.1)\n",
      "Requirement already satisfied: thop>=0.1.1 in /Users/vladislav/miniforge3/envs/tensorflow/lib/python3.8/site-packages (from -r requirements.txt (line 39)) (0.1.1.post2207130030)\n",
      "\u001b[31mERROR: Could not find a version that satisfies the requirement mediapipe>=0.8.9 (from versions: none)\u001b[0m\u001b[31m\n",
      "\u001b[0m\u001b[31mERROR: No matching distribution found for mediapipe>=0.8.9\u001b[0m\u001b[31m\n",
      "\u001b[0m"
     ]
    }
   ],
   "source": [
    "!pip install -r requirements.txt"
   ]
  },
  {
   "cell_type": "markdown",
   "id": "2655a418",
   "metadata": {},
   "source": [
    "## Использование модели\n",
    "#### my_detect.py - файл запуска модели (редактируем код в этом файле)\n",
    "### last.pt - веса обученной модели\n",
    "### source - источник (на входе модели)"
   ]
  },
  {
   "cell_type": "raw",
   "id": "5442765f",
   "metadata": {},
   "source": [
    "Usage - sources: \n",
    "!python path/to/my_detect.py --weights yolov5s.pt --source 0           # webcam\n",
    "                                                        img.jpg        # image\n",
    "                                                        vid.mp4        # video\n",
    "                                                        path/          # directory\n",
    "                                                        path/*.jpg     # glob\n",
    "                                                        'https://youtu.be/Zgi9g1ksQHc'  # YouTube\n",
    "                                                        'rtsp://example.com/media.mp4'  # RTSP,RTMP,HTTP stream"
   ]
  },
  {
   "cell_type": "code",
   "execution_count": 3,
   "id": "65f30c96",
   "metadata": {},
   "outputs": [
    {
     "name": "stdout",
     "output_type": "stream",
     "text": [
      "objc[79847]: Class CaptureDelegate is implemented in both /Users/vladislav/miniforge3/envs/tensorflow/lib/python3.8/site-packages/cv2/cv2.abi3.so (0x165152538) and /Users/vladislav/miniforge3/envs/tensorflow/lib/python3.8/site-packages/mediapipe/.dylibs/libopencv_videoio.3.4.16.dylib (0x12a830860). One of the two will be used. Which one is undefined.\n",
      "objc[79847]: Class CVWindow is implemented in both /Users/vladislav/miniforge3/envs/tensorflow/lib/python3.8/site-packages/cv2/cv2.abi3.so (0x165152588) and /Users/vladislav/miniforge3/envs/tensorflow/lib/python3.8/site-packages/mediapipe/.dylibs/libopencv_highgui.3.4.16.dylib (0x11a7aca68). One of the two will be used. Which one is undefined.\n",
      "objc[79847]: Class CVView is implemented in both /Users/vladislav/miniforge3/envs/tensorflow/lib/python3.8/site-packages/cv2/cv2.abi3.so (0x1651525b0) and /Users/vladislav/miniforge3/envs/tensorflow/lib/python3.8/site-packages/mediapipe/.dylibs/libopencv_highgui.3.4.16.dylib (0x11a7aca90). One of the two will be used. Which one is undefined.\n",
      "objc[79847]: Class CVSlider is implemented in both /Users/vladislav/miniforge3/envs/tensorflow/lib/python3.8/site-packages/cv2/cv2.abi3.so (0x1651525d8) and /Users/vladislav/miniforge3/envs/tensorflow/lib/python3.8/site-packages/mediapipe/.dylibs/libopencv_highgui.3.4.16.dylib (0x11a7acab8). One of the two will be used. Which one is undefined.\n",
      "\u001b[34m\u001b[1mmy_detect: \u001b[0mweights=['yolov5/yolov5/runs/train/exp5/weights/last.pt'], source=https://www.youtube.com/watch?v=7rvALamfqAE&t=205s, data=yolov5/yolov5/data/coco128.yaml, imgsz=[640, 640], conf_thres=0.25, iou_thres=0.45, max_det=1000, device=, view_img=False, save_txt=False, save_conf=False, save_crop=False, nosave=False, classes=None, agnostic_nms=False, augment=False, visualize=False, update=False, project=yolov5/yolov5/runs/detect, name=exp, exist_ok=False, line_thickness=3, hide_labels=False, hide_conf=False, half=False, dnn=False\n",
      "\u001b[31m\u001b[1mrequirements:\u001b[0m /Users/vladislav/Documents/SourceTree/Mining/Аспирантура/VideoSceneDetection/yolov5/yolov5/requirements.txt not found, check failed.\n",
      "YOLOv5 🚀 v6.1-318-g7215a0f Python-3.8.12 torch-1.12.0 CPU\n",
      "\n",
      "Fusing layers... \n",
      "Model summary: 213 layers, 7012822 parameters, 0 gradients, 15.8 GFLOPs\n",
      "1/1: https://www.youtube.com/watch?v=7rvALamfqAE&t=205s...  Success (25817 frames 1280x720 at 25.00 FPS)\n",
      "\n",
      "INFO: Created TensorFlow Lite XNNPACK delegate for CPU.\n",
      "0: 384x640 Done. (0.055s)\n",
      "0: 384x640 Done. (0.046s)\n",
      "0: 384x640 Done. (0.042s)\n",
      "0: 384x640 Done. (0.045s)\n",
      "0: 384x640 Done. (0.047s)\n",
      "0: 384x640 Done. (0.049s)\n",
      "0: 384x640 Done. (0.049s)\n",
      "0: 384x640 Done. (0.053s)\n",
      "0: 384x640 Done. (0.049s)\n",
      "0: 384x640 Done. (0.050s)\n",
      "0: 384x640 Done. (0.053s)\n",
      "0: 384x640 Done. (0.051s)\n",
      "0: 384x640 Done. (0.050s)\n",
      "0: 384x640 Done. (0.045s)\n",
      "0: 384x640 Done. (0.045s)\n",
      "0: 384x640 Done. (0.046s)\n",
      "0: 384x640 Done. (0.044s)\n",
      "0: 384x640 Done. (0.049s)\n",
      "0: 384x640 Done. (0.051s)\n",
      "0: 384x640 Done. (0.047s)\n",
      "^C\n",
      "Traceback (most recent call last):\n",
      "  File \"yolov5/yolov5/my_detect.py\", line 486, in <module>\n",
      "    main(opt)\n",
      "  File \"yolov5/yolov5/my_detect.py\", line 481, in main\n",
      "    run(**vars(opt))\n",
      "  File \"/Users/vladislav/miniforge3/envs/tensorflow/lib/python3.8/site-packages/torch/autograd/grad_mode.py\", line 27, in decorate_context\n",
      "    return func(*args, **kwargs)\n",
      "  File \"yolov5/yolov5/my_detect.py\", line 207, in run\n",
      "    create_grid(im0, motor_roi_bbox, hand_roi_bbox)\n",
      "  File \"yolov5/yolov5/my_detect.py\", line 442, in create_grid\n",
      "    cv2.imshow('Img Grid', im0)\n",
      "  File \"/Users/vladislav/Documents/SourceTree/Mining/Аспирантура/VideoSceneDetection/yolov5/yolov5/utils/general.py\", line 1020, in imshow\n",
      "    imshow_(path.encode('unicode_escape').decode(), im)\n",
      "KeyboardInterrupt\n"
     ]
    }
   ],
   "source": [
    "!python \"yolov5/yolov5/my_detect.py\" --weights \"yolov5/yolov5/runs/train/exp5/weights/last.pt\" --source \"https://www.youtube.com/watch?v=7rvALamfqAE&t=205s\""
   ]
  },
  {
   "cell_type": "code",
   "execution_count": null,
   "id": "0a268338",
   "metadata": {},
   "outputs": [],
   "source": []
  }
 ],
 "metadata": {
  "kernelspec": {
   "display_name": "Python 3 (ipykernel)",
   "language": "python",
   "name": "python3"
  },
  "language_info": {
   "codemirror_mode": {
    "name": "ipython",
    "version": 3
   },
   "file_extension": ".py",
   "mimetype": "text/x-python",
   "name": "python",
   "nbconvert_exporter": "python",
   "pygments_lexer": "ipython3",
   "version": "3.8.12"
  }
 },
 "nbformat": 4,
 "nbformat_minor": 5
}
